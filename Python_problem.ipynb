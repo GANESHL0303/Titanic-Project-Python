{
 "cells": [
  {
   "cell_type": "code",
   "execution_count": 1,
   "id": "005c73d4-9246-4b52-ab89-00d46c94221d",
   "metadata": {},
   "outputs": [
    {
     "name": "stdout",
     "output_type": "stream",
     "text": [
      "My name is JaY .My age is 32\n",
      "My name is JaY .My age is 32\n"
     ]
    }
   ],
   "source": [
    "name = \"JaY\"\n",
    "age = 32\n",
    "print(\"My name is \" +name +\" .My age is \" +  str(age))\n",
    "print(f\"My name is {name} .My age is {age}\") #f\" string  methods"
   ]
  },
  {
   "cell_type": "code",
   "execution_count": 6,
   "id": "45c00f36-0247-4967-a061-438fc5dabc69",
   "metadata": {},
   "outputs": [
    {
     "name": "stdin",
     "output_type": "stream",
     "text": [
      "enter the length of the base of the triangle; 7\n",
      "enter the height of the triangle: 7\n"
     ]
    },
    {
     "name": "stdout",
     "output_type": "stream",
     "text": [
      "The area of the triangle is :24.5\n"
     ]
    }
   ],
   "source": [
    "#find the area of a triangle\n",
    "\n",
    "base = float(input(\"enter the length of the base of the triangle;\"))\n",
    "Height = float(input(\"enter the height of the triangle:\"))\n",
    "area = 0.5* base* Height\n",
    "print(f\"The area of the triangle is :{area}\")\n"
   ]
  },
  {
   "cell_type": "code",
   "execution_count": 16,
   "id": "794d9a26-edfe-420b-8a73-ff333316810f",
   "metadata": {},
   "outputs": [
    {
     "name": "stdin",
     "output_type": "stream",
     "text": [
      "enter the value of the first variable (a): 8\n",
      "enter the value the second variable(b): 9\n"
     ]
    },
    {
     "name": "stdout",
     "output_type": "stream",
     "text": [
      "Original values :a = 8,b=9\n",
      "Swapped values: a=9,b=8\n"
     ]
    }
   ],
   "source": [
    "#To Swap two variables:\n",
    "a= input(\"enter the value of the first variable (a):\")\n",
    "b = input(\"enter the value the second variable(b):\")\n",
    "\n",
    "print(f\"Original values :a = {a},b={b}\")\n",
    "temp = a\n",
    "a=b\n",
    "b=temp\n",
    "print(f\"Swapped values: a={a},b={b}\")"
   ]
  },
  {
   "cell_type": "code",
   "execution_count": 17,
   "id": "1b3fc26e-5cfd-448d-b1b4-1f1ed13acb0f",
   "metadata": {},
   "outputs": [
    {
     "name": "stdout",
     "output_type": "stream",
     "text": [
      "random numbers:225\n"
     ]
    }
   ],
   "source": [
    "#Import random\n",
    "import random \n",
    "print(f\"random numbers:{random.randint(1,1000)}\")"
   ]
  },
  {
   "cell_type": "code",
   "execution_count": 1,
   "id": "d41e7332-c6c0-4658-8f07-890456da1871",
   "metadata": {},
   "outputs": [
    {
     "name": "stdin",
     "output_type": "stream",
     "text": [
      "enter year: 1998\n",
      "enter month: 5\n"
     ]
    },
    {
     "name": "stdout",
     "output_type": "stream",
     "text": [
      "      May 1998\n",
      "Mo Tu We Th Fr Sa Su\n",
      "             1  2  3\n",
      " 4  5  6  7  8  9 10\n",
      "11 12 13 14 15 16 17\n",
      "18 19 20 21 22 23 24\n",
      "25 26 27 28 29 30 31\n",
      "\n"
     ]
    }
   ],
   "source": [
    "import calendar \n",
    "year = int(input(\"enter year:\"))\n",
    "month = int(input(\"enter month:\"))\n",
    "cal = calendar.month(year,month)\n",
    "print(cal)\n",
    "    "
   ]
  },
  {
   "cell_type": "code",
   "execution_count": 23,
   "id": "6c97bc2d-631f-4c4e-8a37-7a65ad72d274",
   "metadata": {},
   "outputs": [
    {
     "name": "stdout",
     "output_type": "stream",
     "text": [
      "10 5\n"
     ]
    }
   ],
   "source": [
    "#Swap two variables without using temp variable.\n",
    "a= 5\n",
    "b= 10\n",
    "a,b = b,a\n",
    "print (a,b)"
   ]
  },
  {
   "cell_type": "code",
   "execution_count": 24,
   "id": "18a3cc13-2799-4f41-bb04-8bb4b7acb314",
   "metadata": {},
   "outputs": [
    {
     "name": "stdout",
     "output_type": "stream",
     "text": [
      "10 5\n"
     ]
    }
   ],
   "source": [
    "a= 5\n",
    "b= 10\n",
    "c=a \n",
    "a=b\n",
    "b=c\n",
    "print(a,b)"
   ]
  },
  {
   "cell_type": "code",
   "execution_count": 26,
   "id": "47c4c4dc-ff99-4996-a612-f2287cae9f14",
   "metadata": {},
   "outputs": [
    {
     "name": "stdin",
     "output_type": "stream",
     "text": [
      "Enter a number: 12\n"
     ]
    },
    {
     "name": "stdout",
     "output_type": "stream",
     "text": [
      "This is a Even Number\n"
     ]
    }
   ],
   "source": [
    "#Check if a number is Odd or Even.\n",
    "num = int(input(\"Enter a number:\"))\n",
    "\n",
    "if num%2==0:\n",
    "          print(\"This is a Even Number\")\n",
    "else:\n",
    "          print(\"This is a odd Number\")\n",
    "\n"
   ]
  },
  {
   "cell_type": "code",
   "execution_count": 29,
   "id": "78597569-c6c3-483b-85e1-17ceafc727a9",
   "metadata": {},
   "outputs": [
    {
     "name": "stdin",
     "output_type": "stream",
     "text": [
      "enter your fav num 2\n"
     ]
    },
    {
     "name": "stdout",
     "output_type": "stream",
     "text": [
      "positive number\n"
     ]
    }
   ],
   "source": [
    "#Check if a Number is postive ,Negative or Zero\n",
    "num = float(input(\"enter your fav num\"))\n",
    "if num>0:\n",
    "    print(\"positive number\")\n",
    "elif num==0:\n",
    "    print(\"Zero\")\n",
    "else:\n",
    "    print(\"Negative number\")"
   ]
  },
  {
   "cell_type": "code",
   "execution_count": 34,
   "id": "36a66dfd-fbc0-499d-90e4-d8eed31f0fdc",
   "metadata": {},
   "outputs": [
    {
     "name": "stdin",
     "output_type": "stream",
     "text": [
      "enter a year 1888\n"
     ]
    },
    {
     "name": "stdout",
     "output_type": "stream",
     "text": [
      "1888 is a leap year \n"
     ]
    }
   ],
   "source": [
    "#Check leap year\n",
    "year = int(input(\"enter a year\"))\n",
    "if (year % 400 ==0) and (year %100 ==0):\n",
    "           print(\"{0} is a leap year\".format(year))\n",
    "elif (year%4==0) and (year %100!=0):\n",
    "           print(\"{0} is a leap year \".format(year))\n",
    "else :\n",
    "           print(\"{0} is not a leap year\".format(year))\n",
    "\n",
    "           "
   ]
  },
  {
   "cell_type": "code",
   "execution_count": 1,
   "id": "608a52d6-bba4-4697-9544-c6c4c0286c9b",
   "metadata": {},
   "outputs": [
    {
     "name": "stdin",
     "output_type": "stream",
     "text": [
      " 6\n"
     ]
    },
    {
     "name": "stdout",
     "output_type": "stream",
     "text": [
      "45"
     ]
    }
   ],
   "source": [
    "num= int(input())\n",
    "for i in range (4,num):\n",
    "    print(i,end=\"\")"
   ]
  },
  {
   "cell_type": "code",
   "execution_count": 11,
   "id": "44d37320-bfc8-47bb-af5d-d1b285969ea2",
   "metadata": {},
   "outputs": [
    {
     "name": "stdout",
     "output_type": "stream",
     "text": [
      "Prime numbers between  1 and 50 are:\n",
      "2\n",
      "3\n",
      "5\n",
      "7\n",
      "11\n",
      "13\n",
      "17\n",
      "19\n",
      "23\n",
      "29\n",
      "31\n",
      "37\n",
      "41\n",
      "43\n",
      "47\n"
     ]
    }
   ],
   "source": [
    "#Print all prime numbers within an internal\n",
    "lower = 1\n",
    "upper = 50\n",
    "print(\"Prime numbers between \", lower, \"and\", upper, \"are:\")\n",
    "for num in range(lower,upper+1):\n",
    "    if num>1:\n",
    "        for i in range (2,num):\n",
    "            if(num%i)==0:\n",
    "                break\n",
    "        else:\n",
    "            print(num)"
   ]
  },
  {
   "cell_type": "code",
   "execution_count": 3,
   "id": "f3161ca5-344d-4568-9b71-7850d579b43c",
   "metadata": {},
   "outputs": [
    {
     "name": "stdin",
     "output_type": "stream",
     "text": [
      "enter a number: 34\n"
     ]
    },
    {
     "name": "stdout",
     "output_type": "stream",
     "text": [
      "34,is not a prime number\n"
     ]
    }
   ],
   "source": [
    "#Check give number is prime number:\n",
    "num = int( input(\"enter a number:\"))\n",
    "\n",
    "#define a flag varible\n",
    "flag = False\n",
    "if num ==1:\n",
    "    print(f\"{num}, is not a prime number:\")\n",
    "elif num>1:\n",
    "    for i in range(2,num):\n",
    "        if(num%i)==0:\n",
    "            flag = True\n",
    "            break\n",
    "if flag:\n",
    "    print(f\"{num},is not a prime number\")\n",
    "else:\n",
    "    print(f\"{num},is a prime number\")"
   ]
  },
  {
   "cell_type": "code",
   "execution_count": 12,
   "id": "839c360d-0823-4165-9584-ff70209b38f7",
   "metadata": {},
   "outputs": [
    {
     "name": "stdin",
     "output_type": "stream",
     "text": [
      "Enter the number 68\n"
     ]
    },
    {
     "name": "stdout",
     "output_type": "stream",
     "text": [
      "The factorial of 68 is 2480035542436830599600990418569171581047399201355367672371710738018221445712183296000000000000000\n"
     ]
    }
   ],
   "source": [
    "#Python program to find the factorial of a number:\n",
    "num = int(input(\"Enter the number\"))\n",
    "factorial = 1\n",
    "if num <0:\n",
    "    print(\"Factorial does not exist \")\n",
    "elif num ==0:\n",
    "    print(\"factorial of 0n is 1\")\n",
    "else:\n",
    "    for i in range(1, num+1):\n",
    "        factorial = factorial*i\n",
    "    print (f\"The factorial of {num} is {factorial}\")"
   ]
  },
  {
   "cell_type": "code",
   "execution_count": 14,
   "id": "88aec1ca-ec7f-4d19-958a-0e6b64db1220",
   "metadata": {},
   "outputs": [
    {
     "name": "stdin",
     "output_type": "stream",
     "text": [
      "Display multiplicationn table of : 23\n"
     ]
    },
    {
     "name": "stdout",
     "output_type": "stream",
     "text": [
      "23x1 = 23\n",
      "23x2 = 46\n",
      "23x3 = 69\n",
      "23x4 = 92\n",
      "23x5 = 115\n",
      "23x6 = 138\n",
      "23x7 = 161\n",
      "23x8 = 184\n",
      "23x9 = 207\n",
      "23x10 = 230\n"
     ]
    }
   ],
   "source": [
    "#Multiplicatiuon table:\n",
    "num = int(input(\"Display multiplicationn table of :\"))\n",
    "for i in range (1,11):\n",
    "     print(f\"{num}x{i} = {num*i}\")"
   ]
  },
  {
   "cell_type": "code",
   "execution_count": 1,
   "id": "ffde5aa6-e54f-43bc-8342-f21fe62497e9",
   "metadata": {},
   "outputs": [
    {
     "name": "stdin",
     "output_type": "stream",
     "text": [
      "Enter a number:  45678765\n"
     ]
    },
    {
     "name": "stdout",
     "output_type": "stream",
     "text": [
      "45678765 is not an Armstrong number.\n"
     ]
    }
   ],
   "source": [
    "#Check Armstrong number:\n",
    "#take input from the user\n",
    "num = int(input(\"Enter a number: \"))\n",
    " # Calculate the number of digits in num\n",
    "num_str = str(num)\n",
    "num_digits = len(num_str)\n",
    " # Initialize variables\n",
    "sum_of_powers = 0\n",
    "temp_num = num\n",
    "# Calculate the sum of digits raised to the power of num_digits\n",
    "while temp_num > 0:\n",
    "    digit = temp_num % 10\n",
    "    sum_of_powers += digit ** num_digits\n",
    "    temp_num //= 10\n",
    " # Check if it's an Armstrong number\n",
    "if sum_of_powers == num:\n",
    "    print(f\"{num} is an Armstrong number.\")\n",
    "else:\n",
    "    print(f\"{num} is not an Armstrong number.\")"
   ]
  },
  {
   "cell_type": "code",
   "execution_count": 3,
   "id": "0460b903-2193-4a58-a91c-c2cb010640df",
   "metadata": {},
   "outputs": [
    {
     "name": "stdin",
     "output_type": "stream",
     "text": [
      "Enter the limit:  10\n"
     ]
    },
    {
     "name": "stdout",
     "output_type": "stream",
     "text": [
      "The sum of natural numbers up to 10 is: 55\n"
     ]
    }
   ],
   "source": [
    "# Find the Sum of Natural Numbers\n",
    "limit = int(input(\"Enter the limit: \"))\n",
    " # Initialize the sum\n",
    "sum = 0\n",
    " # Print the sum\n",
    " # Use a for loop to calculate the sum of natural numbers\n",
    "for i in range(1, limit + 1):\n",
    "    sum += i\n",
    "print(\"The sum of natural numbers up to\", limit, \"is:\", sum)"
   ]
  },
  {
   "cell_type": "code",
   "execution_count": 41,
   "id": "4e7ae36c-cc04-47d2-8b41-e7184e3e0a49",
   "metadata": {},
   "outputs": [
    {
     "name": "stdout",
     "output_type": "stream",
     "text": [
      "Select operation.\n",
      "1.Add\n",
      "2.Subtract\n",
      "3.Multiply\n",
      "4.Divide\n"
     ]
    },
    {
     "ename": "TypeError",
     "evalue": "'str' object is not callable",
     "output_type": "error",
     "traceback": [
      "\u001b[1;31m---------------------------------------------------------------------------\u001b[0m",
      "\u001b[1;31mTypeError\u001b[0m                                 Traceback (most recent call last)",
      "Cell \u001b[1;32mIn[41], line 20\u001b[0m\n\u001b[0;32m     17\u001b[0m \u001b[38;5;28mprint\u001b[39m(\u001b[38;5;124m\"\u001b[39m\u001b[38;5;124m4.Divide\u001b[39m\u001b[38;5;124m\"\u001b[39m)\n\u001b[0;32m     18\u001b[0m \u001b[38;5;28;01mwhile\u001b[39;00m \u001b[38;5;28;01mTrue\u001b[39;00m:\n\u001b[0;32m     19\u001b[0m  \u001b[38;5;66;03m# take input from the user\u001b[39;00m\n\u001b[1;32m---> 20\u001b[0m     choice \u001b[38;5;241m=\u001b[39m \u001b[38;5;28minput\u001b[39m(\u001b[38;5;124m\"\u001b[39m\u001b[38;5;124mEnter choice(1/2/3/4): \u001b[39m\u001b[38;5;124m\"\u001b[39m)\n\u001b[0;32m     21\u001b[0m     \u001b[38;5;28;01mif\u001b[39;00m choice \u001b[38;5;129;01min\u001b[39;00m (\u001b[38;5;124m'\u001b[39m\u001b[38;5;124m1\u001b[39m\u001b[38;5;124m'\u001b[39m, \u001b[38;5;124m'\u001b[39m\u001b[38;5;124m2\u001b[39m\u001b[38;5;124m'\u001b[39m, \u001b[38;5;124m'\u001b[39m\u001b[38;5;124m3\u001b[39m\u001b[38;5;124m'\u001b[39m, \u001b[38;5;124m'\u001b[39m\u001b[38;5;124m4\u001b[39m\u001b[38;5;124m'\u001b[39m):\n\u001b[0;32m     22\u001b[0m         \u001b[38;5;28;01mtry\u001b[39;00m:\n",
      "\u001b[1;31mTypeError\u001b[0m: 'str' object is not callable"
     ]
    }
   ],
   "source": [
    "#Simple Calculator with 4 basic mathematical operations.\n",
    "def add(x, y):\n",
    "    return x + y\n",
    " # This function subtracts two numbers\n",
    "def subtract(x, y):\n",
    "    return x - y\n",
    " # This function multiplies two numbers\n",
    "def multiply(x, y):\n",
    "    return x * y\n",
    " # This function divides two numbers\n",
    "def divide(x, y):\n",
    "    return x / y\n",
    "print(\"Select operation.\")\n",
    "print(\"1.Add\")\n",
    "print(\"2.Subtract\")\n",
    "print(\"3.Multiply\")\n",
    "print(\"4.Divide\")\n",
    "while True:\n",
    " # take input from the user\n",
    "    choice = input(\"Enter choice(1/2/3/4): \")\n",
    "    if choice in ('1', '2', '3', '4'):\n",
    "        try:\n",
    "            num1 = float(input(\"Enter first number: \"))\n",
    "            num2 = float(input(\"Enter second number: \"))\n",
    "        except ValueError:\n",
    "            print(\"Invalid input. Please enter a number.\")\n",
    "            continue\n",
    "        if choice == '1':\n",
    "            print(num1, \"+\", num2, \"=\", add(num1, num2))\n",
    "        elif choice == '2':\n",
    "            print(num1, \"-\", num2, \"=\", subtract(num1, num2))\n",
    "        elif choice == '3':\n",
    "            print(num1, \"*\", num2, \"=\", multiply(num1, num2))\n",
    "        elif choice == '4':\n",
    "            print(num1, \"/\", num2, \"=\", divide(num1, num2))\n",
    "        next_calculation = input(\"Let's do next calculation? (yes/no): \")\n",
    "        if next_calculation == \"no\":\n",
    "         break\n",
    "        else:\n",
    "            print(\"Invalid Input\")"
   ]
  },
  {
   "cell_type": "code",
   "execution_count": 42,
   "id": "0b95f56a-37a0-4ec9-bca5-b621dbf28346",
   "metadata": {},
   "outputs": [
    {
     "name": "stdout",
     "output_type": "stream",
     "text": [
      "Select operation.\n",
      "1.Add\n",
      "2.Subtract\n",
      "3.Multiply\n",
      "4.Divide\n"
     ]
    }
   ],
   "source": [
    "def add(x, y):\n",
    "    return x + y\n",
    " # This function subtracts two numbers\n",
    "def subtract(x, y):\n",
    "    return x - y\n",
    " # This function multiplies two numbers\n",
    "def multiply(x, y):\n",
    "    return x * y\n",
    " # This function divides two numbers\n",
    "def divide(x, y):\n",
    "    return x / y\n",
    "print(\"Select operation.\")\n",
    "print(\"1.Add\")\n",
    "print(\"2.Subtract\")\n",
    "print(\"3.Multiply\")\n",
    "print(\"4.Divide\")"
   ]
  },
  {
   "cell_type": "code",
   "execution_count": null,
   "id": "ef1870a3-b72b-42b1-9619-821a8cde0744",
   "metadata": {},
   "outputs": [],
   "source": []
  },
  {
   "cell_type": "code",
   "execution_count": null,
   "id": "9f63e239-aa1d-401f-9867-476de8668dd8",
   "metadata": {},
   "outputs": [],
   "source": []
  }
 ],
 "metadata": {
  "kernelspec": {
   "display_name": "Python 3 (ipykernel)",
   "language": "python",
   "name": "python3"
  },
  "language_info": {
   "codemirror_mode": {
    "name": "ipython",
    "version": 3
   },
   "file_extension": ".py",
   "mimetype": "text/x-python",
   "name": "python",
   "nbconvert_exporter": "python",
   "pygments_lexer": "ipython3",
   "version": "3.11.7"
  }
 },
 "nbformat": 4,
 "nbformat_minor": 5
}
